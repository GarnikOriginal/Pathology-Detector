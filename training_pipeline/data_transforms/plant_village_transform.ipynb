{
 "cells": [
  {
   "cell_type": "code",
   "execution_count": 1,
   "metadata": {},
   "outputs": [],
   "source": [
    "import pandas as pd\n",
    "import os"
   ]
  },
  {
   "cell_type": "code",
   "execution_count": 2,
   "metadata": {
    "tags": [
     "parameters"
    ]
   },
   "outputs": [],
   "source": [
    "dataset_path = '/usr/data/shared_directory/team_1/data/plantvillage_full'\n",
    "output_path = '/usr/data/shared_directory/team_1/notebooks/team_1.2/training_pipeline/output/plantvillage.csv'\n",
    "\n",
    "columns = ['path', 'pathology', 'plant']"
   ]
  },
  {
   "cell_type": "code",
   "execution_count": 3,
   "metadata": {},
   "outputs": [],
   "source": [
    "_color_suff_ = '/color'"
   ]
  },
  {
   "cell_type": "code",
   "execution_count": 4,
   "metadata": {},
   "outputs": [],
   "source": [
    "_plants_suff_=['/Apple___Apple_scab',\n",
    "               '/Apple___Black_rot',\n",
    "               '/Apple___Cedar_apple_rust',\n",
    "               '/Apple___healthy',\n",
    "               '/Blueberry___healthy',\n",
    "               '/Cherry_(including_sour)___Powdery_mildew',\n",
    "               '/Cherry_(including_sour)___healthy',\n",
    "               '/Corn_(maize)___Cercospora_leaf_spot Gray_leaf_spot',\n",
    "               '/Corn_(maize)___Common_rust_',\n",
    "               '/Corn_(maize)___Northern_Leaf_Blight',\n",
    "               '/Corn_(maize)___healthy',\n",
    "               '/Grape___Black_rot',\n",
    "               '/Grape___Esca_(Black_Measles)',\n",
    "               '/Grape___Leaf_blight_(Isariopsis_Leaf_Spot)',\n",
    "               '/Grape___healthy',\n",
    "               '/Orange___Haunglongbing_(Citrus_greening)',\n",
    "               '/Peach___Bacterial_spot',\n",
    "               '/Peach___healthy',\n",
    "               '/Pepper,_bell___Bacterial_spot',\n",
    "               '/Pepper,_bell___healthy',\n",
    "               '/Potato___Early_blight',\n",
    "               '/Potato___Late_blight',\n",
    "               '/Potato___healthy',\n",
    "               '/Raspberry___healthy',\n",
    "               '/Soybean___healthy',\n",
    "               '/Squash___Powdery_mildew',\n",
    "               '/Strawberry___Leaf_scorch',\n",
    "               '/Strawberry___healthy',\n",
    "               '/Tomato___Bacterial_spot',\n",
    "               '/Tomato___Early_blight',\n",
    "               '/Tomato___Late_blight',\n",
    "               '/Tomato___Leaf_Mold',\n",
    "               '/Tomato___Septoria_leaf_spot',\n",
    "               '/Tomato___Spider_mites Two-spotted_spider_mite',\n",
    "               '/Tomato___Target_Spot',\n",
    "               '/Tomato___Tomato_Yellow_Leaf_Curl_Virus',\n",
    "               '/Tomato___Tomato_mosaic_virus',\n",
    "               '/Tomato___healthy']"
   ]
  },
  {
   "cell_type": "code",
   "execution_count": 5,
   "metadata": {
    "scrolled": false
   },
   "outputs": [],
   "source": [
    "_pathology_suff_ = ['scab',\n",
    "                   'black_rot',\n",
    "                   'cedar_apple_rust',\n",
    "                   'healthy',\n",
    "                   'healthy',\n",
    "                   'powdery_mildew',\n",
    "                   'healthy',\n",
    "                   'cercospora_leaf_spot',\n",
    "                   'common_rust',\n",
    "                   'northern_leaf_blight',\n",
    "                   'healthy',\n",
    "                   'black_rot',\n",
    "                   'esca',\n",
    "                   'leaf_blight',\n",
    "                   'healthy',\n",
    "                   'haunglongbing',\n",
    "                   'bacterial_spot',\n",
    "                   'healthy',\n",
    "                   'bacterial_spot',\n",
    "                   'healthy',\n",
    "                   'early_blight',\n",
    "                   'late_blight',\n",
    "                   'healthy',\n",
    "                   'healthy',\n",
    "                   'healthy',\n",
    "                   'powdery_mildew',\n",
    "                   'leaf_scorch',\n",
    "                   'healthy',\n",
    "                   'bacterial_spot',\n",
    "                   'early_blight',\n",
    "                   'late_blight',\n",
    "                   'leaf_mold',\n",
    "                   'septoria_leaf_spot',\n",
    "                   'spider_mites',\n",
    "                   'target_spot',\n",
    "                   'tomato_yellow_leaf_curl_virus',\n",
    "                   'tomato_mosaic_virus',\n",
    "                   'healthy']"
   ]
  },
  {
   "cell_type": "code",
   "execution_count": 6,
   "metadata": {},
   "outputs": [],
   "source": [
    "_names_suff_=['apple',\n",
    "               'apple',\n",
    "               'apple',\n",
    "               'apple',\n",
    "               'blueberry',\n",
    "               'cherry',\n",
    "               'cherry',\n",
    "               'corn',\n",
    "               'corn',\n",
    "               'corn',\n",
    "               'corn',\n",
    "               'grape',\n",
    "               'grape',\n",
    "               'grape',\n",
    "               'grape',\n",
    "               'orange',\n",
    "               'peach',\n",
    "               'peach',\n",
    "               'pepper',\n",
    "               'pepper',\n",
    "               'potato',\n",
    "               'potato',\n",
    "               'potato',\n",
    "               'raspberry',\n",
    "               'soybean',\n",
    "               'squash',\n",
    "               'strawberry',\n",
    "               'strawberry',\n",
    "               'tomato',\n",
    "               'tomato',\n",
    "               'tomato',\n",
    "               'tomato',\n",
    "               'tomato',\n",
    "               'tomato',\n",
    "               'tomato',\n",
    "               'tomato',\n",
    "               'tomato',\n",
    "               'tomato']"
   ]
  },
  {
   "cell_type": "code",
   "execution_count": 7,
   "metadata": {},
   "outputs": [
    {
     "data": {
      "text/html": [
       "<div>\n",
       "<style scoped>\n",
       "    .dataframe tbody tr th:only-of-type {\n",
       "        vertical-align: middle;\n",
       "    }\n",
       "\n",
       "    .dataframe tbody tr th {\n",
       "        vertical-align: top;\n",
       "    }\n",
       "\n",
       "    .dataframe thead th {\n",
       "        text-align: right;\n",
       "    }\n",
       "</style>\n",
       "<table border=\"1\" class=\"dataframe\">\n",
       "  <thead>\n",
       "    <tr style=\"text-align: right;\">\n",
       "      <th></th>\n",
       "      <th>path</th>\n",
       "      <th>pathology</th>\n",
       "      <th>plant</th>\n",
       "    </tr>\n",
       "  </thead>\n",
       "  <tbody>\n",
       "  </tbody>\n",
       "</table>\n",
       "</div>"
      ],
      "text/plain": [
       "Empty DataFrame\n",
       "Columns: [path, pathology, plant]\n",
       "Index: []"
      ]
     },
     "execution_count": 7,
     "metadata": {},
     "output_type": "execute_result"
    }
   ],
   "source": [
    "csv = pd.DataFrame(columns = columns)"
   ]
  },
  {
   "cell_type": "code",
   "execution_count": 8,
   "metadata": {},
   "outputs": [],
   "source": [
    "for i in range(len(_plants_suff_)):\n",
    "    for pic in os.listdir(dataset_path+_color_suff_+_plants_suff_[i]):\n",
    "        csv.loc[len(csv)] = [dataset_path+_color_suff_+_plants_suff_[i]+'/'+pic , _pathology_suff_[i] , _names_suff_[i]]"
   ]
  },
  {
   "cell_type": "code",
   "execution_count": 9,
   "metadata": {},
   "outputs": [],
   "source": [
    "csv.to_csv(os.path.join(output_path,'plantvillage_transformed.csv'),index=False)"
   ]
  }
 ],
 "metadata": {
  "celltoolbar": "Tags",
  "kernelspec": {
   "display_name": "Python 3",
   "language": "python",
   "name": "python3"
  },
  "language_info": {
   "codemirror_mode": {
    "name": "ipython",
    "version": 3
   },
   "file_extension": ".py",
   "mimetype": "text/x-python",
   "name": "python",
   "nbconvert_exporter": "python",
   "pygments_lexer": "ipython3",
   "version": "3.7.6"
  }
 },
 "nbformat": 4,
 "nbformat_minor": 4
}
