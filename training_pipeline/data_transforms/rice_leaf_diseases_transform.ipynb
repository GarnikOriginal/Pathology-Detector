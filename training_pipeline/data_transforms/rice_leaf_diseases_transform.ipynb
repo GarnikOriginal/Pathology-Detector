{
 "cells": [
  {
   "cell_type": "code",
   "execution_count": 1,
   "metadata": {
    "tags": [
     "parameters"
    ]
   },
   "outputs": [],
   "source": [
    "import os\n",
    "\n",
    "dataset_path = \"/usr/data/shared_directory/team_1/data/rice_leaf_diseases\"\n",
    "output_path = os.path.abspath(os.curdir)\n",
    "\n",
    "columns = ['path', 'pathology', 'plant']"
   ]
  },
  {
   "cell_type": "code",
   "execution_count": 3,
   "metadata": {},
   "outputs": [],
   "source": [
    "import numpy as np\n",
    "import pandas as pd\n",
    "from os import mkdir, listdir\n",
    "from os.path import exists, isfile, join\n",
    "       \n",
    "deseases = ['brown_spot', 'healthy', 'hispa','leaf_blast']\n",
    "\n",
    "def get_data(path = dataset_path):\n",
    "\n",
    "    folder = []\n",
    "    for i in os.walk(path):\n",
    "        folder.append(i)\n",
    "    paths = []\n",
    "    for address, dirs, files in folder:\n",
    "        for file in files:\n",
    "            paths.append(address+'/'+file)\n",
    "        \n",
    "    res = []\n",
    "    \n",
    "    for path in paths:\n",
    "        for a in deseases:\n",
    "            if a in path:\n",
    "                res.append([path, a, 'rice'])  \n",
    "    return res\n",
    "\n",
    "        "
   ]
  },
  {
   "cell_type": "code",
   "execution_count": 4,
   "metadata": {},
   "outputs": [],
   "source": [
    "result = get_data()"
   ]
  },
  {
   "cell_type": "code",
   "execution_count": 5,
   "metadata": {},
   "outputs": [],
   "source": [
    "df = pd.DataFrame(result, columns = [columns[0],columns[1],columns[2]])\n",
    "df.to_csv(path_or_buf=join(output_path,'transformed_rice_leaf_diseases.csv'), index=False)"
   ]
  },
  {
   "cell_type": "code",
   "execution_count": null,
   "metadata": {},
   "outputs": [],
   "source": []
  }
 ],
 "metadata": {
  "celltoolbar": "Tags",
  "kernelspec": {
   "display_name": "Python 3",
   "language": "python",
   "name": "python3"
  },
  "language_info": {
   "codemirror_mode": {
    "name": "ipython",
    "version": 3
   },
   "file_extension": ".py",
   "mimetype": "text/x-python",
   "name": "python",
   "nbconvert_exporter": "python",
   "pygments_lexer": "ipython3",
   "version": "3.7.6"
  }
 },
 "nbformat": 4,
 "nbformat_minor": 4
}
