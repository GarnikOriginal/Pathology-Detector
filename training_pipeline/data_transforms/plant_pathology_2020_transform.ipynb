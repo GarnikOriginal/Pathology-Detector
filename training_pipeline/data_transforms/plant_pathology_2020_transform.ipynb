{
 "cells": [
  {
   "cell_type": "code",
   "execution_count": 13,
   "metadata": {
    "tags": [
     "parameters"
    ]
   },
   "outputs": [],
   "source": [
    "import os\n",
    "dataset_path = \"/usr/data/shared_directory/team_1/data/plant_pathology_2020\"\n",
    "output_path = os.path.abspath(os.curdir)\n",
    "\n",
    "columns = ['path', 'pathology', 'plant']"
   ]
  },
  {
   "cell_type": "code",
   "execution_count": 14,
   "metadata": {},
   "outputs": [],
   "source": [
    "import numpy as np\n",
    "import pandas as pd\n",
    "from os import mkdir, listdir\n",
    "from os.path import exists, isfile, join\n",
    "\n",
    "def get_train_data(path = dataset_path):\n",
    "    train = pd.read_csv(join(path,'train.csv'))\n",
    "    train_id = train.pop('image_id')\n",
    "        \n",
    "    y_train = train.to_numpy().astype('float32')\n",
    "    \n",
    "    root_img = 'images'\n",
    "    \n",
    "    images_paths = [join(path,root_img,idee+'.jpg') for idee in train_id]\n",
    "    \n",
    "    return np.array(images_paths),y_train,train.columns"
   ]
  },
  {
   "cell_type": "code",
   "execution_count": 15,
   "metadata": {},
   "outputs": [],
   "source": [
    "x_train,y_train,categories = get_train_data()"
   ]
  },
  {
   "cell_type": "code",
   "execution_count": 16,
   "metadata": {},
   "outputs": [],
   "source": [
    "res = []\n",
    "for i in range(len(y_train)):\n",
    "    if y_train[i][1]!=1.0:\n",
    "        for j in range(len(categories)):\n",
    "            if y_train[i][j]==1.0:\n",
    "                res.append([x_train[i], categories[j],'apple'])\n",
    "res = np.array(res)"
   ]
  },
  {
   "cell_type": "code",
   "execution_count": 17,
   "metadata": {},
   "outputs": [
    {
     "data": {
      "text/plain": [
       "array([['/usr/data/shared_directory/team_1/data/plant_pathology_2020/images/Train_0.jpg',\n",
       "        'scab', 'apple'],\n",
       "       ['/usr/data/shared_directory/team_1/data/plant_pathology_2020/images/Train_2.jpg',\n",
       "        'healthy', 'apple'],\n",
       "       ['/usr/data/shared_directory/team_1/data/plant_pathology_2020/images/Train_3.jpg',\n",
       "        'rust', 'apple'],\n",
       "       ...,\n",
       "       ['/usr/data/shared_directory/team_1/data/plant_pathology_2020/images/Train_1818.jpg',\n",
       "        'healthy', 'apple'],\n",
       "       ['/usr/data/shared_directory/team_1/data/plant_pathology_2020/images/Train_1819.jpg',\n",
       "        'rust', 'apple'],\n",
       "       ['/usr/data/shared_directory/team_1/data/plant_pathology_2020/images/Train_1820.jpg',\n",
       "        'scab', 'apple']], dtype='<U81')"
      ]
     },
     "execution_count": 17,
     "metadata": {},
     "output_type": "execute_result"
    }
   ],
   "source": [
    "res"
   ]
  },
  {
   "cell_type": "code",
   "execution_count": 18,
   "metadata": {},
   "outputs": [],
   "source": [
    "df = pd.DataFrame(res, columns = [columns[0],columns[1],columns[2]])\n",
    "df.to_csv(path_or_buf=join(output_path,'transformed_plant_pathology.csv'), index=False)"
   ]
  }
 ],
 "metadata": {
  "celltoolbar": "Tags",
  "kernelspec": {
   "display_name": "Python 3",
   "language": "python",
   "name": "python3"
  },
  "language_info": {
   "codemirror_mode": {
    "name": "ipython",
    "version": 3
   },
   "file_extension": ".py",
   "mimetype": "text/x-python",
   "name": "python",
   "nbconvert_exporter": "python",
   "pygments_lexer": "ipython3",
   "version": "3.7.6"
  }
 },
 "nbformat": 4,
 "nbformat_minor": 4
}
