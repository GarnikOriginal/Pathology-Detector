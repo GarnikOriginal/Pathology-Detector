{
 "cells": [
  {
   "cell_type": "code",
   "execution_count": 80,
   "metadata": {
    "tags": [
     "parameters"
    ]
   },
   "outputs": [],
   "source": [
    "import os\n",
    "dataset_path = \"/usr/data/shared_directory/team_1/data/Tomato_leaf_disease\"\n",
    "output_path = os.path.abspath(os.curdir)\n",
    "\n",
    "columns = ['path', 'pathology', 'plant']"
   ]
  },
  {
   "cell_type": "code",
   "execution_count": 83,
   "metadata": {},
   "outputs": [],
   "source": [
    "import numpy as np\n",
    "import pandas as pd\n",
    "from os import mkdir, listdir\n",
    "from os.path import exists, isfile, join\n",
    "       \n",
    "#deseases = ['brown_spot', 'healthy', 'hispa','leaf_blast']\n",
    "\n",
    "def get_data(path = dataset_path):\n",
    "\n",
    "    folder = []\n",
    "    for i in os.walk(path):\n",
    "        folder.append(i)\n",
    "    paths = []\n",
    "    for address, dirs, files in folder:\n",
    "        for file in files:\n",
    "            paths.append(address+'/'+file)\n",
    "    \n",
    "    diseases = set()\n",
    "    data = []\n",
    "    for address, dirs, files in folder:\n",
    "        if len(dirs) != 0:\n",
    "            data.append(dirs)\n",
    "    del(data[0])\n",
    "    for lst in data:\n",
    "        for tomato in lst:\n",
    "            diseases.add(tomato[9:])\n",
    "    res = []\n",
    "    \n",
    "    for path in paths:\n",
    "        for a in diseases:\n",
    "            if a in path:\n",
    "                res.append([path, a, 'tomato'])  \n",
    "    return res"
   ]
  },
  {
   "cell_type": "code",
   "execution_count": 84,
   "metadata": {},
   "outputs": [
    {
     "name": "stdout",
     "output_type": "stream",
     "text": [
      "[['Tomato___Early_blight', 'Tomato___Tomato_mosaic_virus', 'Tomato___Tomato_Yellow_Leaf_Curl_Virus', 'Tomato___Spider_mites Two-spotted_spider_mite', 'Tomato___Late_blight', 'Tomato___Bacterial_spot', 'Tomato___Target_Spot', 'Tomato___healthy', 'Tomato___Septoria_leaf_spot', 'Tomato___Leaf_Mold'], ['Tomato___Early_blight', 'Tomato___Tomato_mosaic_virus', 'Tomato___Tomato_Yellow_Leaf_Curl_Virus', 'Tomato___Spider_mites Two-spotted_spider_mite', 'Tomato___Late_blight', 'Tomato___Bacterial_spot', 'Tomato___Target_Spot', 'Tomato___healthy', 'Tomato___Septoria_leaf_spot', 'Tomato___Leaf_Mold']]\n",
      "Tomato_Yellow_Leaf_Curl_Virus Target_Spot Septoria_leaf_spot Tomato_mosaic_virus healthy Leaf_Mold Spider_mites Two-spotted_spider_mite Late_blight Early_blight Bacterial_spot "
     ]
    }
   ],
   "source": [
    "res = get_data()"
   ]
  },
  {
   "cell_type": "code",
   "execution_count": null,
   "metadata": {},
   "outputs": [],
   "source": [
    "len(res)"
   ]
  },
  {
   "cell_type": "code",
   "execution_count": 87,
   "metadata": {},
   "outputs": [],
   "source": [
    "df = pd.DataFrame(res, columns = [columns[0],columns[1],columns[2]])\n",
    "df.to_csv(path_or_buf=join(output_path,'transformed_tomato_leaf_diseases.csv'), index=False)"
   ]
  }
 ],
 "metadata": {
  "celltoolbar": "Tags",
  "kernelspec": {
   "display_name": "Python 3",
   "language": "python",
   "name": "python3"
  },
  "language_info": {
   "codemirror_mode": {
    "name": "ipython",
    "version": 3
   },
   "file_extension": ".py",
   "mimetype": "text/x-python",
   "name": "python",
   "nbconvert_exporter": "python",
   "pygments_lexer": "ipython3",
   "version": "3.7.6"
  }
 },
 "nbformat": 4,
 "nbformat_minor": 4
}
