{
 "cells": [
  {
   "cell_type": "code",
   "execution_count": 1,
   "metadata": {},
   "outputs": [],
   "source": [
    "import os\n",
    "from os.path import join\n",
    "from os import listdir\n",
    "import pandas as pd\n",
    "import numpy as np\n",
    "import json\n",
    "import cv2"
   ]
  },
  {
   "cell_type": "code",
   "execution_count": 2,
   "metadata": {},
   "outputs": [],
   "source": [
    "def load_config(config_path = 'config.json'):\n",
    "    file = open(config_path,'r')\n",
    "    return json.load(file)"
   ]
  },
  {
   "cell_type": "code",
   "execution_count": 3,
   "metadata": {
    "tags": [
     "parameters"
    ]
   },
   "outputs": [],
   "source": [
    "root = join(join(os.path.abspath(os.curdir)),'data')"
   ]
  },
  {
   "cell_type": "code",
   "execution_count": 4,
   "metadata": {},
   "outputs": [],
   "source": [
    "train_pathology_path = join(root,'train_pathology.csv')\n",
    "test_pathology_path = join(root,'test_pathology.csv')\n",
    "train_plants_path = join(root,'train_plants.csv')\n",
    "test_plants_path = join(root,'test_plants.csv')"
   ]
  },
  {
   "cell_type": "code",
   "execution_count": 5,
   "metadata": {},
   "outputs": [],
   "source": [
    "config = load_config()\n",
    "img_height = config['img_height']\n",
    "img_width = config['img_width']"
   ]
  },
  {
   "cell_type": "code",
   "execution_count": 6,
   "metadata": {},
   "outputs": [],
   "source": [
    "def load_img(path):\n",
    "    img = cv2.imread(path)\n",
    "    img = cv2.cvtColor(img, cv2.COLOR_BGR2RGB)\n",
    "      \n",
    "    if (img.shape[0]>img.shape[1]):\n",
    "        img = np.rot90(img)\n",
    "    \n",
    "    img = cv2.resize(img,(img_width,img_height),interpolation = cv2.INTER_AREA)\n",
    "    \n",
    "    return img"
   ]
  },
  {
   "cell_type": "code",
   "execution_count": 7,
   "metadata": {},
   "outputs": [],
   "source": [
    "if not os.path.exists(join(root,'images')):\n",
    "    os.mkdir(join(root,'images'))"
   ]
  },
  {
   "cell_type": "code",
   "execution_count": 8,
   "metadata": {},
   "outputs": [],
   "source": [
    "from tqdm import tqdm\n",
    "\n",
    "img_id = 0\n",
    "\n",
    "def copy_resize_images(df):\n",
    "    new_paths = []\n",
    "    for i in tqdm(range(df.shape[0])):\n",
    "        \n",
    "        global img_id\n",
    "        \n",
    "        new_path = join(root,'images',str(img_id)+'.npy')\n",
    "        img = load_img(df['path'][i])\n",
    "        new_paths.append(new_path)\n",
    "        np.save(new_path,img)\n",
    "        img_id+=1\n",
    "        \n",
    "    df.loc[:,'path'] = new_paths\n"
   ]
  },
  {
   "cell_type": "code",
   "execution_count": 9,
   "metadata": {},
   "outputs": [],
   "source": [
    "train_pathology = pd.read_csv(train_pathology_path)\n",
    "test_pathology = pd.read_csv(test_pathology_path)\n",
    "train_plants = pd.read_csv(train_plants_path)\n",
    "test_plants = pd.read_csv(test_plants_path)"
   ]
  },
  {
   "cell_type": "code",
   "execution_count": 10,
   "metadata": {},
   "outputs": [
    {
     "name": "stderr",
     "output_type": "stream",
     "text": [
      "100%|██████████| 1384/1384 [00:39<00:00, 34.74it/s]\n",
      "100%|██████████| 346/346 [00:09<00:00, 34.67it/s]\n"
     ]
    }
   ],
   "source": [
    "copy_resize_images(train_pathology)\n",
    "copy_resize_images(test_pathology)\n",
    "\n",
    "train_plants.loc[:,'path'] = train_pathology['path']\n",
    "test_plants.loc[:,'path'] = test_pathology['path']"
   ]
  },
  {
   "cell_type": "code",
   "execution_count": 11,
   "metadata": {},
   "outputs": [],
   "source": [
    "train_pathology.to_csv(train_pathology_path,index=False)\n",
    "test_pathology.to_csv(test_pathology_path,index=False)\n",
    "train_plants.to_csv(train_plants_path,index=False)\n",
    "test_plants.to_csv(test_plants_path,index=False)"
   ]
  }
 ],
 "metadata": {
  "celltoolbar": "Tags",
  "kernelspec": {
   "display_name": "Python 3",
   "language": "python",
   "name": "python3"
  },
  "language_info": {
   "codemirror_mode": {
    "name": "ipython",
    "version": 3
   },
   "file_extension": ".py",
   "mimetype": "text/x-python",
   "name": "python",
   "nbconvert_exporter": "python",
   "pygments_lexer": "ipython3",
   "version": "3.7.6"
  }
 },
 "nbformat": 4,
 "nbformat_minor": 4
}
