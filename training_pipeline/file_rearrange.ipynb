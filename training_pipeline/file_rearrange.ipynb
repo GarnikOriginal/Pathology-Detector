{
 "cells": [
  {
   "cell_type": "code",
   "execution_count": 2,
   "metadata": {},
   "outputs": [],
   "source": [
    "import os\n",
    "from os.path import join\n",
    "from os import listdir\n",
    "import pandas as pd\n",
    "import numpy as np\n",
    "from sklearn.model_selection import StratifiedShuffleSplit"
   ]
  },
  {
   "cell_type": "code",
   "execution_count": 3,
   "metadata": {},
   "outputs": [],
   "source": [
    "def train_test_split(x_train,y_train, test_size = 0.2):\n",
    "    x_train = np.array(x_train)\n",
    "    y_train = np.array(y_train)\n",
    "    sss = StratifiedShuffleSplit(n_splits=1, test_size = test_size, random_state=0)\n",
    "    for train_index, test_index in sss.split(x_train, y_train):\n",
    "        x_train, x_test = x_train[train_index], x_train[test_index]\n",
    "        y_train, y_test = y_train[train_index], y_train[test_index]\n",
    "    return x_train, y_train, x_test, y_test"
   ]
  },
  {
   "cell_type": "code",
   "execution_count": 4,
   "metadata": {
    "tags": [
     "parameters"
    ]
   },
   "outputs": [],
   "source": [
    "csv_folder = join(os.path.abspath(os.curdir),'data_transforms')\n",
    "output_path_pathologies = join(join(os.path.abspath(os.curdir)),'data')\n",
    "output_path_plants = join(join(os.path.abspath(os.curdir)),'data')\n",
    "columns = ['path','pathology','plant']"
   ]
  },
  {
   "cell_type": "code",
   "execution_count": 5,
   "metadata": {},
   "outputs": [
    {
     "name": "stdout",
     "output_type": "stream",
     "text": [
      "transformed_plant_pathology.csv\n"
     ]
    }
   ],
   "source": [
    "csv_list = []\n",
    "for file in os.listdir(csv_folder):\n",
    "    if (file.split('.')[-1] == 'csv'):\n",
    "        path = join(csv_folder,file)\n",
    "        print(file)\n",
    "        csv_list.append(pd.read_csv(join(csv_folder,file)))\n",
    "        os.remove(join(csv_folder,file))"
   ]
  },
  {
   "cell_type": "code",
   "execution_count": 5,
   "metadata": {},
   "outputs": [
    {
     "name": "stdout",
     "output_type": "stream",
     "text": [
      "['apple', 'blueberry', 'cherry', 'corn', 'grape', 'orange', 'peach', 'pepper', 'potato', 'raspberry', 'rice', 'soybean', 'squash', 'strawberry', 'tomato']\n",
      "['bacterial_spot', 'black_rot', 'brown_spot', 'cedar_apple_rust', 'cercospora_leaf_spot', 'common_rust', 'early_blight', 'esca', 'haunglongbing', 'healthy', 'hispa', 'late_blight', 'leaf_blast', 'leaf_blight', 'leaf_mold', 'leaf_scorch', 'northern_leaf_blight', 'powdery_mildew', 'rust', 'scab', 'septoria_leaf_spot', 'spider_mites', 'target_spot', 'tomato_mosaic_virus', 'tomato_yellow_leaf_curl_virus']\n"
     ]
    }
   ],
   "source": [
    "plants = set()\n",
    "pathologies = set()\n",
    "\n",
    "sz = 0\n",
    "\n",
    "for csv in csv_list:\n",
    "    for plant in csv[columns[2]]:\n",
    "        plants.add(plant)\n",
    "    for pathology in csv[columns[1]]:\n",
    "        pathologies.add(pathology)\n",
    "        \n",
    "    sz+=csv.shape[0]\n",
    "    \n",
    "\n",
    "pathologies = sorted(pathologies)\n",
    "plants = sorted(plants)\n",
    "print(plants)\n",
    "print(pathologies)"
   ]
  },
  {
   "cell_type": "code",
   "execution_count": 51,
   "metadata": {},
   "outputs": [],
   "source": [
    "#train_pathology.csv\n",
    "#test_pathology.csv\n",
    "\n",
    "nb_classes = len(pathologies)\n",
    "\n",
    "d = dict(zip(pathologies,range(0,len(pathologies))))\n",
    "\n",
    "x_train = []\n",
    "y_train = []\n",
    "\n",
    "for csv in csv_list:\n",
    "    for row in csv.itertuples():\n",
    "        x_train.append(row[1])\n",
    "        y = [0]*nb_classes\n",
    "        y[d[row[2]]] = 1\n",
    "        y_train.append(y)\n",
    "\n",
    "x_train = np.array(x_train)\n",
    "y_train = np.array(y_train)\n",
    "\n",
    "x_train,y_train,x_test,y_test = train_test_split(x_train,y_train)\n",
    "\n",
    "items_in_train = set(x_train)"
   ]
  },
  {
   "cell_type": "code",
   "execution_count": 52,
   "metadata": {},
   "outputs": [],
   "source": [
    "res = np.empty((y_train.shape[0],y_train.shape[1]+1)).astype('object')\n",
    "res[:,0] = x_train\n",
    "res[:,1:] = y_train\n",
    "\n",
    "train_pathology = pd.DataFrame(data = res,columns = ['path'] + pathologies)"
   ]
  },
  {
   "cell_type": "code",
   "execution_count": 53,
   "metadata": {},
   "outputs": [],
   "source": [
    "res = np.empty((y_test.shape[0],y_test.shape[1]+1)).astype('object')\n",
    "res[:,0] = x_test\n",
    "res[:,1:] = y_test\n",
    "\n",
    "test_pathology = pd.DataFrame(data=res,columns = ['path']+pathologies)"
   ]
  },
  {
   "cell_type": "code",
   "execution_count": 54,
   "metadata": {},
   "outputs": [],
   "source": [
    "#train_plant.csv\n",
    "#test_plant.csv \n",
    "\n",
    "nb_classes = len(plants)\n",
    "\n",
    "d = dict(zip(plants,range(0,len(plants))))\n",
    "\n",
    "x_train_t = []\n",
    "y_train_t = []\n",
    "\n",
    "for csv in csv_list:\n",
    "    for row in csv.itertuples():\n",
    "        x_train_t.append(row[1])\n",
    "        y = [0]*nb_classes\n",
    "        y[d[row[3]]] = 1\n",
    "        y_train_t.append(y)\n",
    "        \n",
    "x_train = []\n",
    "y_train = []\n",
    "\n",
    "x_test = []\n",
    "y_test = []\n",
    "\n",
    "for i in range(len(x_train_t)):\n",
    "    if (x_train_t[i] in items_in_train):\n",
    "        x_train.append(x_train_t[i])\n",
    "        y_train.append(y_train_t[i])\n",
    "    else:\n",
    "        x_test.append(x_train_t[i])\n",
    "        y_test.append(y_train_t[i])\n",
    "        \n",
    "x_train = np.array(x_train)\n",
    "y_train = np.array(y_train)\n",
    "\n",
    "x_test = np.array(x_test)\n",
    "y_test = np.array(y_test)"
   ]
  },
  {
   "cell_type": "code",
   "execution_count": 55,
   "metadata": {},
   "outputs": [],
   "source": [
    "res = np.empty((y_train.shape[0],y_train.shape[1]+1)).astype('object')\n",
    "res[:,0] = x_train\n",
    "res[:,1:] = y_train\n",
    "\n",
    "train_plants = pd.DataFrame(data = res,columns = ['path'] + plants)"
   ]
  },
  {
   "cell_type": "code",
   "execution_count": 56,
   "metadata": {},
   "outputs": [],
   "source": [
    "res = np.empty((y_test.shape[0],y_test.shape[1]+1)).astype('object')\n",
    "res[:,0] = x_test\n",
    "res[:,1:] = y_test\n",
    "\n",
    "test_plants = pd.DataFrame(data=res,columns = ['path']+plants)"
   ]
  },
  {
   "cell_type": "code",
   "execution_count": 66,
   "metadata": {},
   "outputs": [],
   "source": [
    "train_pathology.sort_values(by = 'path',inplace =True)\n",
    "train_pathology.index = range(0,train_pathology.shape[0])\n",
    "\n",
    "test_pathology.sort_values(by='path',inplace=True)\n",
    "test_pathology.index = range(0,test_pathology.shape[0])\n",
    "\n",
    "train_plants.sort_values(by='path',inplace=True)\n",
    "train_plants.index = range(0,train_plants.shape[0])\n",
    "\n",
    "test_plants.sort_values(by='path',inplace=True)\n",
    "test_plants.index = range(0,test_plants.shape[0])"
   ]
  },
  {
   "cell_type": "code",
   "execution_count": 67,
   "metadata": {},
   "outputs": [],
   "source": [
    "def save_csv(df,path):\n",
    "    df.to_csv(path,index=False)"
   ]
  },
  {
   "cell_type": "code",
   "execution_count": 69,
   "metadata": {},
   "outputs": [],
   "source": [
    "save_csv(train_pathology,join(output_path_pathologies,'train_pathology.csv'))\n",
    "save_csv(test_pathology,join(output_path_pathologies,'test_pathology.csv'))\n",
    "\n",
    "save_csv(train_plants,join(output_path_plants,'train_plants.csv'))\n",
    "save_csv(test_plants,join(output_path_plants,'test_plants.csv'))"
   ]
  }
 ],
 "metadata": {
  "celltoolbar": "Tags",
  "kernelspec": {
   "display_name": "Python 3",
   "language": "python",
   "name": "python3"
  },
  "language_info": {
   "codemirror_mode": {
    "name": "ipython",
    "version": 3
   },
   "file_extension": ".py",
   "mimetype": "text/x-python",
   "name": "python",
   "nbconvert_exporter": "python",
   "pygments_lexer": "ipython3",
   "version": "3.7.6"
  }
 },
 "nbformat": 4,
 "nbformat_minor": 4
}
